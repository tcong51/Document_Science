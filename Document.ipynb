{
  "nbformat": 4,
  "nbformat_minor": 0,
  "metadata": {
    "colab": {
      "name": "Document.ipynb",
      "provenance": [],
      "authorship_tag": "ABX9TyN102LbW8MIhGEqiteLv6YD",
      "include_colab_link": true
    },
    "kernelspec": {
      "name": "python3",
      "display_name": "Python 3"
    },
    "language_info": {
      "name": "python"
    }
  },
  "cells": [
    {
      "cell_type": "markdown",
      "metadata": {
        "id": "view-in-github",
        "colab_type": "text"
      },
      "source": [
        "<a href=\"https://colab.research.google.com/github/tcong51/Document_Science/blob/main/Document.ipynb\" target=\"_parent\"><img src=\"https://colab.research.google.com/assets/colab-badge.svg\" alt=\"Open In Colab\"/></a>"
      ]
    },
    {
      "cell_type": "markdown",
      "source": [
        "# **Tài liệu về chatbot sử dụng Rasa framework**"
      ],
      "metadata": {
        "id": "pP55MKKvufiT"
      }
    },
    {
      "cell_type": "markdown",
      "source": [
        "# **Xây dựng bong bóng cửa sổ chatbot**\n",
        "---\n",
        "\n",
        "\n",
        "\n",
        "*   https://github.com/tcong51/Chat-Bubbles\n",
        "*   https://github.com/botfront/rasa-webchat\n",
        "\n",
        "*   https://www.giters.com/stefanfuchs/rasa-webchat\n",
        "*   https://chat-widget-docs.rasa.com/?path=/docs/rasa-chat-widget--widget\n",
        "*   https://lucasbassetti.com.br/react-simple-chatbot/\n",
        "*   https://github.com/topics/webchat\n",
        "*   https://github.com/tcong51/chatroom\n",
        "\n",
        "\n",
        "*   https://github.com/tcong51/chatbot-1\n",
        "\n",
        "\n",
        "\n",
        "\n",
        "\n",
        "\n",
        "\n",
        "\n"
      ],
      "metadata": {
        "id": "kLDDkZGerVgt"
      }
    },
    {
      "cell_type": "markdown",
      "source": [
        "# **Thiết lập cấu hình đường ống sử dụng đối với Vietnamesetokenizer & PhoBERT**\n",
        "---\n",
        "\n",
        "\n",
        "*  https://github.com/tcong51/Custom_Rasa\n",
        "\n",
        "*   https://viblo.asia/p/rasa-chatbot-tang-kha-nang-chatbot-voi-custom-component-va-custom-tokenizationtieng-viet-tieng-nhat-Qbq5QN4mKD8\n",
        "*   https://ichi.pro/vi/chatbot-da-ngon-ngu-su-dung-rasa-va-custom-tokenizer-135150327751531\n",
        "\n",
        "\n",
        "\n"
      ],
      "metadata": {
        "id": "NMZG2IJ8vAmj"
      }
    },
    {
      "cell_type": "markdown",
      "source": [
        "# **Các bài báo khoa học - luận văn**\n",
        "---\n",
        "\n",
        "\n",
        "\n",
        "*   https://drive.google.com/drive/folders/1f5KZ2Z0FmCk0OZy3v4Y27Y1Bdtl-SzjU\n"
      ],
      "metadata": {
        "id": "K7pkFIeEvA5M"
      }
    },
    {
      "cell_type": "markdown",
      "source": [
        "# **Các tài liệu tham khảo**\n",
        "```\n",
        "DIET architecture\n",
        "```\n",
        "*   https://www.youtube.com/playlist?list=PL75e0qA87dlG-za8eLI6t0_Pbxafk-cxb\n",
        "*   https://forum.rasa.com/t/dietclassifier-with-sparse-input-features-only/39084\n",
        "*   https://towardsdatascience.com/day-101-of-nlp365-in-depth-study-of-rasas-diet-architecture-3cdc10601599\n",
        "*   https://rasa.com/blog/introducing-dual-intent-and-entity-transformer-diet-state-of-the-art-performance-on-a-lightweight-architecture/\n",
        "*   https://medium.com/the-research-nest/using-the-diet-classifier-for-intent-classification-in-dialogue-489c76e62804\n",
        "*   https://arxiv.org/abs/1810.04805\n",
        "\n",
        "*   https://viblo.asia/p/bert-roberta-phobert-bertweet-ung-dung-state-of-the-art-pre-trained-model-cho-bai-toan-phan-loai-van-ban-4P856PEWZY3\n",
        "\n",
        "```\n",
        "FastText\n",
        "```\n",
        "*   https://fasttext.cc/\n",
        "*   https://github.com/souvikg10/spacy-fasttext\n",
        "\n",
        "*   https://medium.com/strai/build-a-rasa-nlu-chatbot-with-spacy-with-fasttext-240e192082bd\n",
        "\n",
        "*   https://forum.rasa.com/t/feeding-custom-pretrained-embeddings-for-ner-crf/5406\n",
        "*   https://forum.rasa.com/t/word-embeddings-and-rasa-nlu/23978\n",
        "\n",
        "```\n",
        "VOSK API VOICE\n",
        "```\n",
        "*   https://alphacephei.com/vosk/install\n",
        "*   https://snyk.io/advisor/python/speech-recognition-fork\n",
        "*   https://tinker.hashnode.dev/offline-speech-recognition-with-vosk\n",
        "*   https://github-dotcom.gateway.web.tr/ccoreilly/vosk-browser\n",
        "*   https://github.com/anuran-roy/vosk-demo\n",
        "*   https://github.com/alphacep/vosk-server/commits/master\n",
        "*   https://githubmate.com/repo/smivv/python-vosk-trial\n",
        "\n",
        "\n",
        "```\n",
        "Tài liệu viết báo cáo\n",
        "```\n",
        "\n",
        "\n",
        "*   https://drive.google.com/file/d/1z09Sy4M-P7obO1nwk7lzU4uY3XjRxPt0/view?usp=sharing\n",
        "\n",
        "\n",
        "\n",
        "\n",
        "```\n",
        "Tài liệu \n",
        "```\n",
        "*   https://drive.google.com/file/d/1YfcOLz3KCY9Vhycf0BwKWLgWr92Aa8GM/view?usp=sharing\n",
        "*   https://github.com/tcong51/rasa-custom-printer-component\n",
        "*   https://github.com/tcong51/AvatarRasaChatbot\n",
        "\n",
        "\n",
        "\n",
        "\n",
        "\n",
        "\n",
        "\n",
        "\n",
        "\n",
        "\n",
        "\n",
        "\n",
        "\n"
      ],
      "metadata": {
        "id": "w4z70MtOvBFv"
      }
    },
    {
      "cell_type": "markdown",
      "source": [
        "## **Chatbot với GG Colab & Docker**\n",
        "\n",
        "\n",
        "*   https://github.com/tcong51/Chatbot-with-GoogleCollab\n",
        "*   https://github.com/tcong51/Chatbot-rasa-with-Docker\n",
        "\n",
        "\n"
      ],
      "metadata": {
        "id": "ybFrWE5BROuZ"
      }
    }
  ]
}